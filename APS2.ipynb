{
 "cells": [
  {
   "attachments": {},
   "cell_type": "markdown",
   "metadata": {},
   "source": [
    "# APS TRANSCAL \n",
    "##### Caio Tieri, Felipe Trintim, Rafael Coca e Thomas Chabro"
   ]
  },
  {
   "attachments": {},
   "cell_type": "markdown",
   "metadata": {},
   "source": [
    "___\n",
    "##   1   (4,0 pontos)"
   ]
  },
  {
   "attachments": {},
   "cell_type": "markdown",
   "metadata": {},
   "source": [
    "\n",
    "\n",
    "$ \\frac {d^2x}{dt^2} - \\frac{hP}{kA _{tr}} \\cdot (T - T _{\\inf}) = \\frac{1}{\\alpha} \\cdot \\frac{dT}{dt} $\n",
    "\n",
    "$ \\therefore \\frac{T^l _{i + 1} - 2 T^l _{i} + T^l _{i - 1}}{\\Delta x^2} - \\frac{hP}{k A _{tr}} \\cdot (T - T _{inf}) = \\frac{T^{l+1} _{i} - T^l _{i}}{\\alpha \\cdot \\Delta t}$\n",
    "\n",
    "$ \\therefore (\\frac{T^l _{i + 1} - 2 T^l _{i} + T^l _{i - 1}}{\\Delta x^2} - \\frac{hP}{k A _{tr}} \\cdot (T - T _{inf})) \\cdot \\alpha \\cdot \\Delta t + T^l _{i} = T^{l + 1} _{i}$"
   ]
  },
  {
   "attachments": {},
   "cell_type": "markdown",
   "metadata": {},
   "source": [
    "___\n",
    "##   2   (4,0 pontos)"
   ]
  },
  {
   "attachments": {},
   "cell_type": "markdown",
   "metadata": {},
   "source": [
    "imports"
   ]
  },
  {
   "cell_type": "code",
   "execution_count": 151,
   "metadata": {},
   "outputs": [],
   "source": [
    "from math import *\n",
    "import numpy as np\n",
    "import matplotlib.pyplot as plt\n",
    "import matplotlib.animation as animation\n",
    "\n"
   ]
  },
  {
   "attachments": {},
   "cell_type": "markdown",
   "metadata": {},
   "source": [
    "inicializando variaveis"
   ]
  },
  {
   "cell_type": "code",
   "execution_count": 152,
   "metadata": {},
   "outputs": [],
   "source": [
    "tol = 1 * 10**-10\n",
    "l = 300 * 10**-3\n",
    "d = 5 * 1*10**-3\n",
    "r = d/2\n",
    "p = 2 * pi * r\n",
    "density = 2700\n",
    "k = 180\n",
    "c = 896\n",
    "t = 25 + 273\n",
    "tb = 100 + 273\n",
    "tinf = 50 + 273\n",
    "h = 50\n",
    "alpha = k/(density*c)"
   ]
  },
  {
   "attachments": {},
   "cell_type": "markdown",
   "metadata": {},
   "source": [
    "funcao"
   ]
  },
  {
   "cell_type": "code",
   "execution_count": 153,
   "metadata": {},
   "outputs": [],
   "source": [
    "def funcao(density, calor_especifico, k, h, t_fluido, t_base, raio, comprimento, dx, tempo):\n",
    "    alpha = k/(density*calor_especifico)\n",
    "    r = raio\n",
    "    t = tempo\n",
    "    l = comprimento   \n",
    "    tinf = t_fluido\n",
    "    tb = t_base\n",
    "    atr = pi * r**2\n",
    "    p = 2 * pi * r\n",
    "    dt = ((dx**2)/(alpha*((h*p*dx**2)/(k*atr)) +2)) * 0.9\n",
    "\n",
    "    listax = np.arange(0, l+dx, dx)\n",
    "    listay = np.arange(0, t+dt, dt)\n",
    "\n",
    "    T = np.zeros((len(listay), len(listax)))\n",
    "\n",
    "    T[:, 0] = tb\n",
    "    T[:,-1] = 25+273\n",
    "    \n",
    "\n",
    "    for i in range(1, len(listay)-1):\n",
    "        for j in range(0, len(listax)-1):\n",
    "            T[i+1,j] = ( ( (T[i,j+1] - 2*T[i,j] + T[i,j-1]) / (dx**2) ) - (((h*p) / (k*atr)) * (tb - tinf)) ) * alpha * dt + T[i,j]\n",
    "            # T[i,j+1] = ( ( (T[i+1,j] - 2*T[i,j] + T[i-1,j]) / (dx**2) ) ) * alpha * dt + T[i,j]\n",
    "\n",
    "    return T, listax, listay\n",
    "\n",
    "\n"
   ]
  },
  {
   "cell_type": "code",
   "execution_count": 154,
   "metadata": {},
   "outputs": [
    {
     "name": "stdout",
     "output_type": "stream",
     "text": [
      "[[ 3.73000000e+02  0.00000000e+00  0.00000000e+00 ...  0.00000000e+00\n",
      "   0.00000000e+00  2.98000000e+02]\n",
      " [ 3.73000000e+02  0.00000000e+00  0.00000000e+00 ...  0.00000000e+00\n",
      "   0.00000000e+00  2.98000000e+02]\n",
      " [ 3.72984963e+02  1.24516266e-02 -3.72023502e-05 ... -3.72023502e-05\n",
      "   9.94046797e-03  2.98000000e+02]\n",
      " ...\n",
      " [ 2.39045165e+02  1.84009005e+02  1.35244957e+02 ...  1.74907059e+02\n",
      "   2.33994245e+02  2.98000000e+02]\n",
      " [ 2.39045259e+02  1.84009178e+02  1.35245182e+02 ...  1.74907288e+02\n",
      "   2.33994373e+02  2.98000000e+02]\n",
      " [ 2.39045353e+02  1.84009351e+02  1.35245407e+02 ...  1.74907516e+02\n",
      "   2.33994500e+02  2.98000000e+02]]\n"
     ]
    }
   ],
   "source": [
    "tol = 1 * 10**-10\n",
    "l = 300 * 10**-3\n",
    "d = 5 * 1*10**-3\n",
    "r = d/2\n",
    "p = 2 * pi * r\n",
    "density = 2700\n",
    "k = 180\n",
    "c = 896\n",
    "t = 25 + 273\n",
    "tb = 100 + 273\n",
    "tinf = 50 + 273\n",
    "h = 50\n",
    "alpha = k/(density*c)\n",
    "\n",
    "temp, posicao, tempo = funcao(density, c, k, h, tinf, tb, r, l, 0.01, 10)\n",
    "print(temp)"
   ]
  },
  {
   "cell_type": "code",
   "execution_count": 163,
   "metadata": {},
   "outputs": [
    {
     "name": "stdout",
     "output_type": "stream",
     "text": [
      "222224\n"
     ]
    },
    {
     "data": {
      "image/png": "[encoded data removed]",
      "text/plain": [
       "<Figure size 432x288 with 1 Axes>"
      ]
     },
     "metadata": {
      "needs_background": "light"
     },
     "output_type": "display_data"
    }
   ],
   "source": [
    "#plota ultimo valor de temp pela posicao\n",
    "print(len(temp))\n",
    "\n",
    "\n",
    "plt.plot(posicao, temp[0])\n",
    "plt.axis([-0.01, 0.31, 0, 400])\n",
    "\n",
    "plt.show()"
   ]
  },
  {
   "cell_type": "code",
   "execution_count": null,
   "metadata": {},
   "outputs": [],
   "source": []
  }
 ],
 "metadata": {
  "kernelspec": {
   "display_name": "Python 3",
   "language": "python",
   "name": "python3"
  },
  "language_info": {
   "codemirror_mode": {
    "name": "ipython",
    "version": 3
   },
   "file_extension": ".py",
   "mimetype": "text/x-python",
   "name": "python",
   "nbconvert_exporter": "python",
   "pygments_lexer": "ipython3",
   "version": "3.8.8"
  },
  "orig_nbformat": 4
 },
 "nbformat": 4,
 "nbformat_minor": 2
}
