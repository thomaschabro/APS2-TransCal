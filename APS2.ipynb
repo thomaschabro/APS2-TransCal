{
 "cells": [
  {
   "attachments": {},
   "cell_type": "markdown",
   "metadata": {},
   "source": [
    "# APS TRANSCAL \n",
    "##### Caio Tieri, Felipe Trintim, Rafael Coca e Thomas Chabro"
   ]
  },
  {
   "attachments": {},
   "cell_type": "markdown",
   "metadata": {},
   "source": [
    "___\n",
    "##   1   (4,0 pontos)"
   ]
  },
  {
   "attachments": {},
   "cell_type": "markdown",
   "metadata": {},
   "source": [
    "\n",
    "\n",
    "$ \\frac {d^2x}{dt^2} - \\frac{hP}{kA _{tr}} \\cdot (T - T _{\\inf}) = \\frac{1}{\\alpha} \\cdot \\frac{dT}{dt} $\n",
    "\n",
    "$ \\therefore \\frac{T^l _{i + 1} - 2 T^l _{i} + T^l _{i - 1}}{\\Delta x^2} - \\frac{hP}{k A _{tr}} \\cdot (T - T _{inf}) = \\frac{T^{l+1} _{i} - T^l _{i}}{\\alpha \\cdot \\Delta t}$\n",
    "\n",
    "$ \\therefore (\\frac{T^l _{i + 1} - 2 T^l _{i} + T^l _{i - 1}}{\\Delta x^2} - \\frac{hP}{k A _{tr}} \\cdot (T - T _{inf})) \\cdot \\alpha \\cdot \\Delta t + T^l _{i} = T^{l + 1} _{i}$"
   ]
  },
  {
   "attachments": {},
   "cell_type": "markdown",
   "metadata": {},
   "source": [
    "___\n",
    "##   2   (4,0 pontos)"
   ]
  },
  {
   "attachments": {},
   "cell_type": "markdown",
   "metadata": {},
   "source": [
    "imports"
   ]
  },
  {
   "cell_type": "code",
   "execution_count": 170,
   "metadata": {},
   "outputs": [],
   "source": [
    "from math import *\n",
    "import numpy as np\n",
    "import matplotlib.pyplot as plt\n",
    "import matplotlib.animation as animation\n",
    "\n"
   ]
  },
  {
   "attachments": {},
   "cell_type": "markdown",
   "metadata": {},
   "source": [
    "funcao"
   ]
  },
  {
   "cell_type": "code",
   "execution_count": 171,
   "metadata": {},
   "outputs": [],
   "source": [
    "def funcao(density, calor_especifico, k, h, t_fluido, t_base, raio, comprimento, dx, tempo):\n",
    "    alpha = k/(density*calor_especifico)\n",
    "    r = raio\n",
    "    t = tempo\n",
    "    l = comprimento   \n",
    "    tinf = t_fluido\n",
    "    tb = t_base\n",
    "    atr = pi * r**2\n",
    "    p = 2 * pi * r\n",
    "    dt = ((dx**2)/(alpha*((h*p*dx**2)/(k*atr)+ 2))) * 0.9\n",
    "    print(dt)\n",
    "\n",
    "    listax = np.arange(0, l+dx, dx)\n",
    "    listay = np.arange(0, t+dt, dt)\n",
    "\n",
    "    T = np.zeros((len(listay), len(listax)))\n",
    "\n",
    "    T[:, 0] = tb\n",
    "    T[:,-1] = 25+273\n",
    "    \n",
    "    tzinho = 0\n",
    "\n",
    "    for t in range(1, len(listay)-1):\n",
    "        for x in range(1, len(listax)-1):\n",
    "            job = (T[t, x+1] - 2*T[t, x] + T[t, x-1]) / dx**2\n",
    "            eve = ((h*p) / (k*atr)) * (T[t, x] - tinf)\n",
    "            T[t+1, x] = (job - eve) * alpha * dt + T[t, x]\n",
    "            if abs(T[t+1, x] - T[t, x]) <= 10**-10:\n",
    "                tzinho = t\n",
    "    \n",
    "\n",
    "    return T, listax, listay, tzinho\n",
    "\n",
    "\n"
   ]
  },
  {
   "cell_type": "code",
   "execution_count": 172,
   "metadata": {},
   "outputs": [
    {
     "name": "stdout",
     "output_type": "stream",
     "text": [
      "0.5981538461538461\n"
     ]
    }
   ],
   "source": [
    "tol = 1 * 10**-10\n",
    "l = 300 * 10**-3\n",
    "d = 5 * 10**-3\n",
    "r = d/2\n",
    "p = 2 * pi * r\n",
    "density = 2700\n",
    "k = 180 # W/mK\n",
    "c = 896\n",
    "t = 25 + 273\n",
    "tb = 100 + 273\n",
    "tinf = 50 + 273\n",
    "h = 50\n",
    "alpha = k/(density*c)\n",
    "\n",
    "temp, posicao, tempo, tzinho = funcao(density=density, calor_especifico=c, k=k, h=h, t_fluido=tinf, t_base=tb, raio=r, comprimento=l, dx=0.01, tempo=1000)\n"
   ]
  },
  {
   "cell_type": "code",
   "execution_count": 176,
   "metadata": {},
   "outputs": [
    {
     "name": "stdout",
     "output_type": "stream",
     "text": [
      "1673\n"
     ]
    },
    {
     "data": {
      "image/png": "[encoded data removed]",
      "text/plain": [
       "<Figure size 432x288 with 1 Axes>"
      ]
     },
     "metadata": {
      "needs_background": "light"
     },
     "output_type": "display_data"
    }
   ],
   "source": [
    "#plota ultimo valor de temp pela posicao\n",
    "print(len(temp))\n",
    "\n",
    "\n",
    "plt.plot(posicao, temp[tzinho, :])\n",
    "plt.axis([-0.01, 0.31, 0, 400])\n",
    "plt.xlabel('Posição (m)')\n",
    "plt.ylabel('Temperatura (K)')\n",
    "plt.title('Temperatura em função da posição')\n",
    "plt.grid()\n",
    "\n",
    "plt.show()"
   ]
  },
  {
   "cell_type": "code",
   "execution_count": null,
   "metadata": {},
   "outputs": [],
   "source": []
  }
 ],
 "metadata": {
  "kernelspec": {
   "display_name": "Python 3",
   "language": "python",
   "name": "python3"
  },
  "language_info": {
   "codemirror_mode": {
    "name": "ipython",
    "version": 3
   },
   "file_extension": ".py",
   "mimetype": "text/x-python",
   "name": "python",
   "nbconvert_exporter": "python",
   "pygments_lexer": "ipython3",
   "version": "3.9.13"
  },
  "orig_nbformat": 4
 },
 "nbformat": 4,
 "nbformat_minor": 2
}
