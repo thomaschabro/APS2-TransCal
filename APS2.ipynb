{
 "cells": [
  {
   "attachments": {},
   "cell_type": "markdown",
   "metadata": {},
   "source": [
    "# APS TRANSCAL \n",
    "##### Caio Tieri, Felipe Trintim, Rafael Coca e Thomas Chabro"
   ]
  },
  {
   "attachments": {},
   "cell_type": "markdown",
   "metadata": {},
   "source": [
    "___\n",
    "##   1   (4,0 pontos)"
   ]
  },
  {
   "attachments": {},
   "cell_type": "markdown",
   "metadata": {},
   "source": [
    "\n",
    "\n",
    "$ \\frac {d^2x}{dt^2} - \\frac{hP}{kA _{tr}} \\cdot (T - T _{\\inf}) = \\frac{1}{\\alpha} \\cdot \\frac{dT}{dt} $\n",
    "\n",
    "$ \\therefore \\frac{T^l _{i + 1} - 2 T^l _{i} + T^l _{i - 1}}{\\Delta x^2} - \\frac{hP}{k A _{tr}} \\cdot (T - T _{inf}) = \\frac{T^{l+1} _{i} - T^l _{i}}{\\alpha \\cdot \\Delta t}$\n",
    "\n",
    "$ \\therefore (\\frac{T^l _{i + 1} - 2 T^l _{i} + T^l _{i - 1}}{\\Delta x^2} - \\frac{hP}{k A _{tr}} \\cdot (T - T _{inf})) \\cdot \\alpha \\cdot \\Delta T + T^l _{i} = T^{l + 1} _{i}$"
   ]
  },
  {
   "attachments": {},
   "cell_type": "markdown",
   "metadata": {},
   "source": [
    "___\n",
    "##   2   (4,0 pontos)"
   ]
  },
  {
   "attachments": {},
   "cell_type": "markdown",
   "metadata": {},
   "source": [
    "imports"
   ]
  },
  {
   "cell_type": "code",
   "execution_count": 3,
   "metadata": {},
   "outputs": [],
   "source": [
    "from math import *\n",
    "import numpy as np\n",
    "import matplotlib.pyplot as plt\n",
    "import matplotlib.animation as animation\n",
    "\n"
   ]
  },
  {
   "attachments": {},
   "cell_type": "markdown",
   "metadata": {},
   "source": [
    "inicializando variaveis"
   ]
  },
  {
   "cell_type": "code",
   "execution_count": 4,
   "metadata": {},
   "outputs": [],
   "source": [
    "tol = 1 * 10**-10\n",
    "l = 300 * 10**-3\n",
    "d = 5 * 1*10**-3\n",
    "r = d/2\n",
    "p = 2 * pi * r\n",
    "density = 2700\n",
    "k = 180\n",
    "c = 896\n",
    "t = 25 + 273\n",
    "tb = 100 + 273\n",
    "tinf = 50 + 273\n",
    "h = 50\n",
    "alpha = k/(density*c)"
   ]
  },
  {
   "attachments": {},
   "cell_type": "markdown",
   "metadata": {},
   "source": [
    "funcao"
   ]
  },
  {
   "cell_type": "code",
   "execution_count": 5,
   "metadata": {},
   "outputs": [
    {
     "ename": "TypeError",
     "evalue": "'float' object is not callable",
     "output_type": "error",
     "traceback": [
      "\u001b[1;31m---------------------------------------------------------------------------\u001b[0m",
      "\u001b[1;31mTypeError\u001b[0m                                 Traceback (most recent call last)",
      "Cell \u001b[1;32mIn[5], line 26\u001b[0m\n\u001b[0;32m     22\u001b[0m             T[i,j\u001b[39m+\u001b[39m\u001b[39m1\u001b[39m] \u001b[39m=\u001b[39m ( ( (T[i\u001b[39m+\u001b[39m\u001b[39m1\u001b[39m,j] \u001b[39m-\u001b[39m \u001b[39m2\u001b[39m\u001b[39m*\u001b[39mT[i,j] \u001b[39m+\u001b[39m T[i\u001b[39m-\u001b[39m\u001b[39m1\u001b[39m,j]) \u001b[39m/\u001b[39m (dx\u001b[39m*\u001b[39m\u001b[39m*\u001b[39m\u001b[39m2\u001b[39m) ) \u001b[39m-\u001b[39m (((h\u001b[39m*\u001b[39mp) \u001b[39m/\u001b[39m (k\u001b[39m*\u001b[39matr)) \u001b[39m*\u001b[39m (tb \u001b[39m-\u001b[39m tinf)) ) \u001b[39m*\u001b[39m alpha \u001b[39m*\u001b[39m dt \u001b[39m+\u001b[39m T[i,j]\n\u001b[0;32m     24\u001b[0m     \u001b[39mreturn\u001b[39;00m T, listax, listay\n\u001b[1;32m---> 26\u001b[0m T, listax, listay \u001b[39m=\u001b[39m funcao(density, c, k, h, tinf, tb, r, l, \u001b[39m0.01\u001b[39;49m, \u001b[39m5\u001b[39;49m)\n\u001b[0;32m     27\u001b[0m plt\u001b[39m.\u001b[39mfigure(figsize\u001b[39m=\u001b[39m(\u001b[39m10\u001b[39m,\u001b[39m10\u001b[39m))\n\u001b[0;32m     28\u001b[0m plt\u001b[39m.\u001b[39mimshow(T, cmap\u001b[39m=\u001b[39m\u001b[39m'\u001b[39m\u001b[39mhot\u001b[39m\u001b[39m'\u001b[39m, interpolation\u001b[39m=\u001b[39m\u001b[39m'\u001b[39m\u001b[39mnearest\u001b[39m\u001b[39m'\u001b[39m)\n",
      "Cell \u001b[1;32mIn[5], line 10\u001b[0m, in \u001b[0;36mfuncao\u001b[1;34m(density, calor_especifico, k, h, t_fluido, t_base, raio, comprimento, dx, tempo)\u001b[0m\n\u001b[0;32m      8\u001b[0m atr \u001b[39m=\u001b[39m pi \u001b[39m*\u001b[39m r\u001b[39m*\u001b[39m\u001b[39m*\u001b[39m\u001b[39m2\u001b[39m\n\u001b[0;32m      9\u001b[0m p \u001b[39m=\u001b[39m \u001b[39m2\u001b[39m \u001b[39m*\u001b[39m pi \u001b[39m*\u001b[39m r\n\u001b[1;32m---> 10\u001b[0m dt \u001b[39m=\u001b[39m ((dx\u001b[39m*\u001b[39m\u001b[39m*\u001b[39m\u001b[39m2\u001b[39m)\u001b[39m/\u001b[39m(alpha( (h\u001b[39m*\u001b[39;49mp\u001b[39m*\u001b[39;49mdx\u001b[39m*\u001b[39;49m\u001b[39m*\u001b[39;49m\u001b[39m2\u001b[39;49m)\u001b[39m/\u001b[39;49m(k\u001b[39m*\u001b[39;49matr) ) \u001b[39m+\u001b[39m\u001b[39m2\u001b[39m)) \u001b[39m*\u001b[39m \u001b[39m0.9\u001b[39m\n\u001b[0;32m     12\u001b[0m listax \u001b[39m=\u001b[39m np\u001b[39m.\u001b[39marrange(\u001b[39m0\u001b[39m, l\u001b[39m+\u001b[39mdx, dx)\n\u001b[0;32m     13\u001b[0m listay \u001b[39m=\u001b[39m np\u001b[39m.\u001b[39marrange(\u001b[39m0\u001b[39m, t\u001b[39m+\u001b[39mdt, dt)\n",
      "\u001b[1;31mTypeError\u001b[0m: 'float' object is not callable"
     ]
    }
   ],
   "source": [
    "def funcao(density, calor_especifico, k, h, t_fluido, t_base, raio, comprimento, dx, tempo):\n",
    "    alpha = k/(density*calor_especifico)\n",
    "    r = raio\n",
    "    l = comprimento\n",
    "    dt = tempo\n",
    "    tinf = t_fluido\n",
    "    tb = t_base\n",
    "    atr = pi * r**2\n",
    "    p = 2 * pi * r\n",
    "    dt = ((dx**2)/(alpha( (h*p*dx**2)/(k*atr) ) +2)) * 0.9\n",
    "\n",
    "    listax = np.arrange(0, l+dx, dx)\n",
    "    listay = np.arrange(0, t+dt, dt)\n",
    "\n",
    "    T = np.zeros((len(listay), len(listax)))\n",
    "\n",
    "    T[0, :] = tb\n",
    "    T[:, 0] = tinf\n",
    "\n",
    "    for i in range(1, len(listay)-1):\n",
    "        for j in range(1, len(listax)-1):\n",
    "            T[i,j+1] = ( ( (T[i+1,j] - 2*T[i,j] + T[i-1,j]) / (dx**2) ) - (((h*p) / (k*atr)) * (tb - tinf)) ) * alpha * dt + T[i,j]\n",
    "\n",
    "    return T, listax, listay\n",
    "\n",
    "\n"
   ]
  }
 ],
 "metadata": {
  "kernelspec": {
   "display_name": "Python 3",
   "language": "python",
   "name": "python3"
  },
  "language_info": {
   "codemirror_mode": {
    "name": "ipython",
    "version": 3
   },
   "file_extension": ".py",
   "mimetype": "text/x-python",
   "name": "python",
   "nbconvert_exporter": "python",
   "pygments_lexer": "ipython3",
   "version": "3.10.10"
  },
  "orig_nbformat": 4
 },
 "nbformat": 4,
 "nbformat_minor": 2
}
